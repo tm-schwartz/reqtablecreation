{
 "cells": [
  {
   "cell_type": "code",
   "execution_count": 1,
   "id": "c102d3a0",
   "metadata": {},
   "outputs": [
    {
     "data": {
      "text/plain": [
       "Relation"
      ]
     },
     "execution_count": 1,
     "metadata": {},
     "output_type": "execute_result"
    }
   ],
   "source": [
    "struct Course\n",
    "    name::String\n",
    "end\n",
    "\n",
    "mutable struct Relation\n",
    "    rtype::String\n",
    "    members::Array{Union{Course, Relation}, 1}\n",
    "    Relation(rtype::String, members::Array) =  new(uppercase(strip(rtype, [' ', '('])), members)\n",
    "end \n",
    "\n",
    "function Relation(inpt)\n",
    "    if isa(inpt, String)\n",
    "        return Relation(uppercase(strip(inpt, [' ', '('])), [])\n",
    "    elseif isa(inpt, Array) && eltype(inpt) in (Course, Relation)\n",
    "        return Relation(\"\", inpt)\n",
    "    else\n",
    "        return error(\"either rtype or members have incorrect type\")\n",
    "    end\n",
    "end\n",
    "\n",
    "Relation() = Relation(\"\", [])"
   ]
  },
  {
   "cell_type": "code",
   "execution_count": null,
   "id": "236d4e91",
   "metadata": {},
   "outputs": [],
   "source": [
    "function pprint(r)\n",
    "    for elem in r.members\n",
    "        "
   ]
  },
  {
   "cell_type": "code",
   "execution_count": 5,
   "id": "3abbdf3b",
   "metadata": {},
   "outputs": [
    {
     "data": {
      "text/plain": [
       "14-element Vector{String}:\n",
       " \"Math 1315\"\n",
       " \"or (\"\n",
       " \"Math 1410\"\n",
       " \"and\"\n",
       " \"Math 1415\"\n",
       " \"or (\"\n",
       " \"Math 123\"\n",
       " \"and\"\n",
       " \"Math456\"\n",
       " \")\"\n",
       " \")\"\n",
       " \"or\"\n",
       " \"Math 1530\"\n",
       " \"Reading & w p 2\""
      ]
     },
     "execution_count": 5,
     "metadata": {},
     "output_type": "execute_result"
    }
   ],
   "source": [
    "d = [\"Math 1315\", \"or (\", \"Math 1410\", \"and\", \"Math 1415\", \"or (\", \"Math 123\", \"and\", \"Math456\", \")\", \")\",\n",
    "    \"or\", \"Math 1530\", \"Reading & w p 2\"]"
   ]
  },
  {
   "cell_type": "code",
   "execution_count": null,
   "id": "b2e3d00b",
   "metadata": {},
   "outputs": [],
   "source": [
    "[or(or(m1315, or(and(m1410, m1415), and(m123, m456))), m15130), rwp2\n",
    "    \n",
    "]"
   ]
  },
  {
   "cell_type": "code",
   "execution_count": 2,
   "id": "48c872ae",
   "metadata": {},
   "outputs": [
    {
     "data": {
      "text/plain": [
       "14-element Vector{String}:\n",
       " \"Math 1315\"\n",
       " \"or (\"\n",
       " \"Math 1410\"\n",
       " \"and\"\n",
       " \"Math 1415\"\n",
       " \"or (\"\n",
       " \"Math 123\"\n",
       " \"and\"\n",
       " \"Math456\"\n",
       " \")\"\n",
       " \")\"\n",
       " \"or\"\n",
       " \"Math 1530\"\n",
       " \"Reading & w p 2\""
      ]
     },
     "execution_count": 2,
     "metadata": {},
     "output_type": "execute_result"
    }
   ],
   "source": [
    "d = [\"Math 1315\", \"or (\", \"Math 1410\", \"and\", \"Math 1415\", \"or (\", \"Math 123\", \"and\", \"Math456\", \")\", \")\",\n",
    "    \"or\", \"Math 1530\", \"Reading & w p 2\"]"
   ]
  },
  {
   "cell_type": "code",
   "execution_count": 7,
   "id": "d5099864",
   "metadata": {},
   "outputs": [
    {
     "name": "stdout",
     "output_type": "stream",
     "text": [
      "Math 1315,2263969766702654586,1\n",
      "Math 1410,3013351850941791963,2\n",
      "Math 1415,3013351850941791963,2\n",
      "Math 123,4919044556118090714,2\n",
      "Math456,4919044556118090714,2\n",
      "Math 1530,955886123823477966,1\n",
      "Reading & w p 2,7703009946950956736,0\n"
     ]
    }
   ],
   "source": [
    "function itre(it::Relation)\n",
    "    for i in it.members\n",
    "        if isa(i, Relation)\n",
    "           itre(i)\n",
    "        elseif isa(i, Course)\n",
    "            print(i.name, ',')\n",
    "            if it.rtype == \"AND\"\n",
    "                print(hash(it), ',', '2', '\\n')\n",
    "            else\n",
    "                print(hash(i.name), ',', '1','\\n')\n",
    "            end\n",
    "        end\n",
    "    end\n",
    "end\n",
    "\n",
    "for r in reqs\n",
    "    if isa(r, Course)\n",
    "        print(r.name, ',', hash(r.name), ',', '0', '\\n')\n",
    "    else\n",
    "        itre(r)\n",
    "    end\n",
    "end"
   ]
  },
  {
   "cell_type": "markdown",
   "id": "a8747b1e",
   "metadata": {},
   "source": [
    "why\n"
   ]
  },
  {
   "cell_type": "markdown",
   "id": "1ce635ec",
   "metadata": {},
   "source": [
    "function itre(it)\n",
    "    for i in it[].members\n",
    "        if isa(i, Base.RefValue{Relation})\n",
    "           itre(i)\n",
    "        elseif isa(i, Base.RefValue{Course})\n",
    "            print(i[].name, ',')\n",
    "            if it[].rtype == \"AND\"\n",
    "                print(hash(it[]), ',', '2', '\\n')\n",
    "            else\n",
    "                print(hash(i[].name), ',', '1','\\n')\n",
    "            end\n",
    "        end\n",
    "    end\n",
    "end\n",
    "\n",
    "for r in reqs\n",
    "    if isa(r, Base.RefValue{Course})\n",
    "        print(r[].name, ',', hash(r[].name), ',', '0', '\\n')\n",
    "    else\n",
    "        itre(r)\n",
    "    end\n",
    "end"
   ]
  },
  {
   "cell_type": "markdown",
   "id": "d74a0eca",
   "metadata": {},
   "source": [
    "function pushrel!(reqs::Array, input, elem)\n",
    "    # push a standard relation to reqs\n",
    "    if isa(reqs[end], Base.RefValue{Relation}) && reqs[end][].rtype == uppercase(strip(elem, [' ', '('])) # if relation and rtype same as current elem\n",
    "        topush = Course(popfirst!(input))\n",
    "        push!(reqs[end][].members, Ref(topush))\n",
    "    else\n",
    "        topush = Relation(elem, [reqs[end], Ref(Course(popfirst!(input)))])\n",
    "        pop!(reqs)\n",
    "        push!(reqs, Ref(topush))\n",
    "    end\n",
    "end\n",
    "\n",
    "function pushrel!(reqs::Base.RefValue{Relation}, input, elem)\n",
    "    # push a standard relation to reqs\n",
    "    if isa(reqs[].members[end], Base.RefValue{Relation}) && reqs[].members[end][].rtype  == uppercase(strip(elem, [' ', '('])) # if relation and rtype same as current elem\n",
    "        topush = Course(popfirst!(input))\n",
    "        push!(reqs[end][].members, Ref(topush))\n",
    "        \n",
    "    else\n",
    "        topush = Relation(elem, [reqs[].members[end], Ref(Course(popfirst!(input)))])\n",
    "        pop!(reqs[].members)\n",
    "        push!(reqs[].members, Ref(topush))\n",
    "    end\n",
    "end\n",
    "\n",
    "function pushgroup!(reqs::Array, input, elem)\n",
    "    rel = Relation(elem, [reqs[end]]) \n",
    "    pop!(reqs)\n",
    "    while input[1] != \")\"\n",
    "        elem = popfirst!(input)\n",
    "       if lowercase(elem) in (\"or\", \"and\")\n",
    "            pushrel!(Ref(rel), input, elem)\n",
    "        elseif lowercase(elem) in (\"or (\", \"and (\")\n",
    "            pushgroup!(Ref(rel), input, elem)\n",
    "        else\n",
    "            push!(rel.members, Ref(Course(elem)))\n",
    "        end\n",
    "    end\n",
    "    push!(reqs, Ref(rel))\n",
    "    popfirst!(input)\n",
    "end\n",
    "\n",
    "function pushgroup!(reqs::Base.RefValue{Relation}, input, elem)\n",
    "    rel = Relation(elem, [reqs[].members[end]]) \n",
    "    pop!(reqs[].members)\n",
    "    while input[1] != \")\"\n",
    "        elem = popfirst!(input)\n",
    "       if lowercase(elem) in (\"or\", \"and\")\n",
    "            pushrel!(Ref(rel), input, elem)\n",
    "        elseif lowercase(elem) in (\"or (\", \"and (\")\n",
    "            pushgroup!(rel, input, elem)\n",
    "        else\n",
    "            push!(rel.members, Ref(Course(elem)))\n",
    "        end\n",
    "    end\n",
    "    push!(reqs[].members, Ref(rel))\n",
    "    popfirst!(input)\n",
    "end"
   ]
  },
  {
   "cell_type": "markdown",
   "id": "132b1757",
   "metadata": {},
   "source": [
    "need relation int "
   ]
  },
  {
   "cell_type": "code",
   "execution_count": 3,
   "id": "534afcbf",
   "metadata": {},
   "outputs": [
    {
     "data": {
      "text/plain": [
       "pushgroup! (generic function with 2 methods)"
      ]
     },
     "execution_count": 3,
     "metadata": {},
     "output_type": "execute_result"
    }
   ],
   "source": [
    "function pushrel!(reqs::Array, input, elem)\n",
    "    # push a standard relation to reqs\n",
    "    if isa(reqs[end], Relation) && reqs[end].rtype == uppercase(strip(elem, [' ', '('])) # if relation and rtype same as current elem\n",
    "        topush = Course(popfirst!(input))\n",
    "        push!(reqs[end].members, topush)\n",
    "    else\n",
    "        topush = Relation(elem, [reqs[end], Course(popfirst!(input))])\n",
    "        pop!(reqs)\n",
    "        push!(reqs, topush)\n",
    "    end\n",
    "end\n",
    "\n",
    "function pushrel!(reqs::Relation, input, elem)\n",
    "    # push a standard relation to reqs\n",
    "    if isa(reqs.members[end], Relation) && reqs.members[end].rtype  == uppercase(strip(elem, [' ', '('])) # if relation and rtype same as current elem\n",
    "        topush = Course(popfirst!(input))\n",
    "        push!(reqs[end].members, topush)\n",
    "        \n",
    "    else\n",
    "        topush = Relation(elem, [reqs.members[end], Course(popfirst!(input))])\n",
    "        pop!(reqs.members)\n",
    "        push!(reqs.members, topush)\n",
    "    end\n",
    "end\n",
    "\n",
    "function pushgroup!(reqs::Array, input, elem)\n",
    "    rel = Relation(elem, [reqs[end]]) \n",
    "    pop!(reqs)\n",
    "    while input[1] != \")\"\n",
    "        elem = popfirst!(input)\n",
    "       if lowercase(elem) in (\"or\", \"and\")\n",
    "            pushrel!(rel, input, elem)\n",
    "        elseif lowercase(elem) in (\"or (\", \"and (\")\n",
    "            pushgroup!(rel, input, elem)\n",
    "        else\n",
    "            push!(rel.members, Course(elem))\n",
    "        end\n",
    "    end\n",
    "    push!(reqs, rel)\n",
    "    popfirst!(input)\n",
    "end\n",
    "\n",
    "function pushgroup!(reqs::Relation, input, elem)\n",
    "    rel = Relation(elem, [reqs.members[end]]) \n",
    "    pop!(reqs.members)\n",
    "    while input[1] != \")\"\n",
    "        elem = popfirst!(input)\n",
    "       if lowercase(elem) in (\"or\", \"and\")\n",
    "            pushrel!(rel, input, elem)\n",
    "        elseif lowercase(elem) in (\"or (\", \"and (\")\n",
    "            pushgroup!(rel, input, elem)\n",
    "        else\n",
    "            push!(rel.members, Course(elem))\n",
    "        end\n",
    "    end\n",
    "    push!(reqs.members, rel)\n",
    "    popfirst!(input)\n",
    "end"
   ]
  },
  {
   "cell_type": "code",
   "execution_count": 6,
   "id": "a24cce23",
   "metadata": {},
   "outputs": [],
   "source": [
    "input = copy(d)\n",
    "reqs = []\n",
    "while !isempty(input)\n",
    "    c = popfirst!(input)\n",
    "    if lowercase(c) in (\"or\", \"and\")\n",
    "        pushrel!(reqs, input, c)\n",
    "        continue\n",
    "    elseif lowercase(c) in (\"or (\", \"and (\")\n",
    "        pushgroup!(reqs, input, c)\n",
    "        continue\n",
    "    else\n",
    "        push!(reqs, Course(c))\n",
    "   end\n",
    "end\n",
    "\n",
    "        "
   ]
  },
  {
   "cell_type": "code",
   "execution_count": 3,
   "id": "15b404fa",
   "metadata": {},
   "outputs": [],
   "source": [
    "using CSV, DataFrames"
   ]
  },
  {
   "cell_type": "code",
   "execution_count": 4,
   "id": "1d4681f4",
   "metadata": {},
   "outputs": [],
   "source": [
    "dat = CSV.read(\"../py/programs_and_requirements.txt\", DataFrame, delim='|')\n",
    "dat = coalesce.(dat, \"\");"
   ]
  },
  {
   "cell_type": "code",
   "execution_count": 3,
   "id": "cb8096c3",
   "metadata": {
    "jupyter": {
     "source_hidden": true
    },
    "tags": []
   },
   "outputs": [
    {
     "data": {
      "text/plain": [
       "processor (generic function with 1 method)"
      ]
     },
     "execution_count": 3,
     "metadata": {},
     "output_type": "execute_result"
    }
   ],
   "source": [
    "replaceescchar(str) = lowercase(replace(unescape_string(str), \"\\xa0\"=>\" \", \"'\"=>\"\", \"\\t\"=>\"\", \",\"=>\" |\"))\n",
    "\n",
    "replacesubstr(str) = replace(str, \"+\"=>\"and\", \"or equivalent\"=>\"\", \"or equivalent course\"=>\"\")\n",
    "\n",
    "r = Regex(\"(?<andor>(or|and))\\\\s\\\\s\\\\|\\\\s\\\\(\")\n",
    "s = SubstitutionString(\"\\\\g<andor> (\")\n",
    "r2 = Regex(\"(?<paror>\\\\)\\\\s)(?<oa>(or|and))\")\n",
    "s2 = SubstitutionString(\"\\\\g<paror> | \\\\g<oa>\")\n",
    "fixgroup(str) = replace(str,r=>s, r2=>s2)\n",
    "\n",
    "function regexextract(str)\n",
    "    # crssubjnumb = \"(\\\\w\\\\w\\\\w?\\\\w?\\\\s\\\\d\\\\d\\\\d\\\\d?\\\\w?\\\\s(?=\\\\|))\"\n",
    "    crssubjnumb = \"(\\\\w{2,4}\\\\s\\\\d{3,4}\\\\w?\\\\s(?=\\\\|))\"\n",
    "    andor = \"(\\\\sor\\\\s\\\\(.*\\\\))|(\\\\sand\\\\s\\\\(.*\\\\))|(\\\\sor\\\\s)|(\\\\sand\\\\s)\"\n",
    "    parenth = \"[()]\"\n",
    "    #skills = \"(.*\\\\sskills\\\\s\\\\d)\"\n",
    "    skills = \"(?<=\\\\|\\\\s)[\\\\w\\\\s&]{4,}\\\\sskills\\\\s\\\\d?\"\n",
    "    series = \"(?<=\\\\|\\\\s)[\\\\w\\\\s\\\\-\\\\d]{4,}\\\\sseries\"\n",
    "    proficiency = \"(?<=\\\\|\\\\s)[\\\\w\\\\s\\\\-&\\\\d]{4,}\\\\d?\\\\sproficiency\\\\s\\\\d?\"\n",
    "    divider = \"(\\\\|(=? \\\\||))\"\n",
    "    return join(map(x->x.match, eachmatch(Regex(\"$crssubjnumb|$andor|$parenth|$skills|$series|$proficiency|$divider\"), str)))\n",
    "end\n",
    "\n",
    "function chopper(str)\n",
    "    if startswith(str, \"|\") && endswith(str, \"|\")\n",
    "        return chop(str, head = 1, tail = 1)\n",
    "    elseif startswith(str, \"|\")\n",
    "        return chop(str, head = 1, tail = 0)\n",
    "    elseif startswith(str, \"or\")\n",
    "        return chop(str, head = 2, tail = 0)\n",
    "    elseif startswith(str, \"and\")\n",
    "        return chop(str, head = 3, tail = 0)\n",
    "    elseif endswith(str, \"|\")\n",
    "        return chop(str, head = 0, tail = 1)\n",
    "    elseif endswith(str, \"or\")\n",
    "        return chop(str, head = 0, tail = 2)\n",
    "    elseif endswith(str, \"and\")\n",
    "        return chop(str, head = 0, tail = 3)\n",
    "    else\n",
    "        return \"\"\n",
    "    end\n",
    "end\n",
    "\n",
    "function catorand(x, y)\n",
    "    if (occursin(\"or \", x) || occursin(\"and \", x)) && occursin(\"(\", y)\n",
    "        return x*y\n",
    "    end\n",
    "end\n",
    "\n",
    "finfiltr(arr) = filter(x->!isempty(strip(x))&&!occursin(\"()\",x), arr)\n",
    "\n",
    "function processor(str)\n",
    "    rec = replaceescchar(str)\n",
    "    rss = replacesubstr(rec)\n",
    "    fg = fixgroup(rss)\n",
    "    re = strip(regexextract(fg))\n",
    "    c = re\n",
    "    while true\n",
    "        toret = c\n",
    "        c = chopper(strip(c))\n",
    "        if isempty(c) \n",
    "            return finfiltr(split(toret,\"|\", keepempty=false))\n",
    "        end\n",
    "    end\n",
    "end"
   ]
  },
  {
   "cell_type": "code",
   "execution_count": 37,
   "id": "5f84aec2",
   "metadata": {},
   "outputs": [],
   "source": [
    "match(r\"\\w{2,4}\\s\\d{3,4}\\w?\", dd)"
   ]
  },
  {
   "cell_type": "code",
   "execution_count": 28,
   "id": "deabab78",
   "metadata": {},
   "outputs": [
    {
     "data": {
      "text/plain": [
       "\"||||||| or ||() and |\""
      ]
     },
     "execution_count": 28,
     "metadata": {},
     "output_type": "execute_result"
    }
   ],
   "source": [
    "function p(str)\n",
    "    rec = replaceescchar(str)\n",
    "    fg = fixgroup(rec)\n",
    "    re = strip(regexextrct(fg))\n",
    "    return re\n",
    "end\n",
    "dd = p(fixdata[:, 2][1])\n",
    "\n",
    "function regexextract(str)\n",
    "    # TODO crssubjnumb misses hlth 1001 for comm dental hlth coord cert 1618\n",
    "    # TODO need to fix chopper, or move stripping strngs ending in `or` somewhere else.\n",
    "    # if a string ends in `or` it is not valid but `or` is kept.\n",
    "    # examples: cdhc and computer information systems cyber sec 1618. maybe just add another\n",
    "    # filter function to get rid of or/and at end?\n",
    "    crssubjnumb = \"(\\\\w{2,4}\\\\s\\\\d{3,4}\\\\w?\\\\s(?=\\\\|))\"\n",
    "    andor = \"(\\\\sor\\\\s\\\\(.*\\\\))|(\\\\sand\\\\s\\\\(.*\\\\))|(\\\\sor\\\\s)|(\\\\sand\\\\s)\"\n",
    "    parenth = \"[()]\"\n",
    "    skills = \"(?<=\\\\|\\\\s)[\\\\w\\\\s&]{4,}\\\\sskills\\\\s\\\\d?\"\n",
    "    series = \"(?<=\\\\|\\\\s)[\\\\w\\\\s\\\\-\\\\d]{4,}\\\\sseries\"\n",
    "    proficiency = \"(?<=\\\\|\\\\s)[\\\\w\\\\s\\\\-&\\\\d]{4,}\\\\d?\\\\sproficiency\\\\s\\\\d?\"\n",
    "    divider = \"(\\\\|(=? \\\\||))\"\n",
    "    return join(map(x -> x.match, eachmatch(Regex(\"$crssubjnumb|$andor|$parenth|$skills|$series|$proficiency|$divider\"), str)))\n",
    "end\n",
    "\n",
    "regexextract(dd)"
   ]
  },
  {
   "cell_type": "code",
   "execution_count": 58,
   "id": "0a00da7f-11b0-407f-bf6e-eec413d41e60",
   "metadata": {},
   "outputs": [
    {
     "name": "stdout",
     "output_type": "stream",
     "text": [
      "['Associate degree or higher in a technical field, or', 'Department approval']\n",
      " or | or |\n",
      " | or |\n",
      " or \n",
      "\n",
      "[\"or\"]\n"
     ]
    }
   ],
   "source": [
    "d = fixdata[:, 2][1]\n",
    "println(d)\n",
    "output = regexextract(fixgroup(replaceescchar(d)))\n",
    "c = output\n",
    "println(c)\n",
    "while true\n",
    "        toret = c\n",
    "        c = chopper(strip(c))\n",
    "        println(c)\n",
    "        if isempty(c)\n",
    "            arr = finfiltr(split(toret, \"|\", keepempty=false))\n",
    "            println(convert(Array{String},collect(map(strip, arr))))\n",
    "            break\n",
    "    end\n",
    "end"
   ]
  },
  {
   "cell_type": "code",
   "execution_count": 54,
   "id": "bd832e64-0e31-436b-8a85-0c87a9932a2e",
   "metadata": {},
   "outputs": [
    {
     "data": {
      "text/plain": [
       "runclean (generic function with 1 method)"
      ]
     },
     "execution_count": 54,
     "metadata": {},
     "output_type": "execute_result"
    }
   ],
   "source": [
    "replaceescchar(str) = lowercase(replace(unescape_string(str),\n",
    "    \"\\xa0\" => \" \",\n",
    "    \"'\" => \"\",\n",
    "    \"\\t\" => \"\",\n",
    "    \",\" => \" |\",\n",
    "    \"+\" => \"and\")\n",
    ")\n",
    "\n",
    "finfiltr(arr) = filter(x -> !isempty(strip(x)) && !occursin(\"()\", x), arr)\n",
    "\n",
    "function fixgroup(str)\n",
    "    r = Regex(\"(?<andor>(or|and))\\\\s\\\\s\\\\|\\\\s\\\\(\")  # replace `or | (` with `or (`\n",
    "    s = SubstitutionString(\"\\\\g<andor> (\")          # converts to single element  in final arr\n",
    "    r2 = Regex(\"(?<paror>\\\\)\\\\s)(?<oa>(or|and))\")   # replace `) or` with `) | or`\n",
    "    s2 = SubstitutionString(\"\\\\g<paror> | \\\\g<oa>\") # converts to two seperate elements in final array\n",
    "    return replace(str, r => s, r2 => s2)\n",
    "end\n",
    "\n",
    "function regexextract(str)\n",
    "    # TODO crssubjnumb misses hlth 1001 for comm dental hlth coord cert 1618\n",
    "    # TODO need to fix chopper, or move stripping strngs ending in `or` somewhere else.\n",
    "    # if a string ends in `or` it is not valid but `or` is kept.\n",
    "    # examples: cdhc and computer information systems cyber sec 1618. maybe just add another\n",
    "    # filter function to get rid of or/and at end?\n",
    "    crssubjnumb = \"(\\\\w{2,4}\\\\s\\\\d{3,4}\\\\w?\\\\s(?=(\\\\||\\\\-)))\"\n",
    "    andor = \"(\\\\sor\\\\s\\\\(.*\\\\))|(\\\\sand\\\\s\\\\(.*\\\\))|(\\\\sor\\\\s)|(\\\\sand\\\\s)\"\n",
    "    parenth = \"[()]\"\n",
    "    skills = \"(?<=\\\\|\\\\s)[\\\\w\\\\s&]{4,}\\\\sskills\\\\s\\\\d?\"\n",
    "    series = \"(?<=\\\\|\\\\s)[\\\\w\\\\s\\\\-\\\\d]{4,}\\\\sseries\"\n",
    "    proficiency = \"(?<=\\\\|\\\\s)[\\\\w\\\\s\\\\-&\\\\d]{4,}\\\\d?\\\\sproficiency\\\\s\\\\d?\"\n",
    "    divider = \"(\\\\|(=? \\\\||))\"\n",
    "    return join(map(x -> x.match, eachmatch(Regex(\"$crssubjnumb|$andor|$parenth|$skills|$series|$proficiency|$divider\"), str)))\n",
    "end\n",
    "\n",
    "function chopper(str)\n",
    "    if startswith(str, \"|\") && endswith(str, \"|\")\n",
    "        return chop(str, head=1, tail=1)\n",
    "    elseif startswith(str, \"|\")\n",
    "        return chop(str, head=1, tail=0)\n",
    "    elseif startswith(str, \"or\")\n",
    "        return chop(str, head=2, tail=0)\n",
    "    elseif startswith(str, \"and\")\n",
    "        return chop(str, head=3, tail=0)\n",
    "    elseif endswith(str, \"|\")\n",
    "        return chop(str, head=0, tail=1)\n",
    "    elseif endswith(str, \"()\")\n",
    "        return chop(str, head=0, tail=2)\n",
    "    elseif endswith(str, \"or\")\n",
    "        return chop(str, head=0, tail=2)\n",
    "    elseif endswith(str, \"and\")\n",
    "        return chop(str, head=0, tail=3)\n",
    "    else\n",
    "        return \"\"\n",
    "    end\n",
    "end\n",
    "\n",
    "function runclean(str)\n",
    "    rec = replaceescchar(str)\n",
    "    fg = fixgroup(rec)\n",
    "    re = strip(regexextrct(fg))\n",
    "    c = re\n",
    "    while true\n",
    "        toret = c\n",
    "        c = chopper(strip(c))\n",
    "        if isempty(c)\n",
    "            arr = finfiltr(split(toret, \"|\", keepempty=false))\n",
    "            return convert(Array{String},collect(map(strip, arr)))\n",
    "        end\n",
    "    end\n",
    "end\n"
   ]
  },
  {
   "cell_type": "code",
   "execution_count": 6,
   "id": "73dd3e68",
   "metadata": {},
   "outputs": [],
   "source": [
    "f(x) = convert(Array{String}, runclean(x))\n",
    "transform!(dat, :requirements=>ByRow(f)=>\"cleanedreqs\");"
   ]
  },
  {
   "cell_type": "code",
   "execution_count": 56,
   "id": "bc52b87e-0d81-4ff8-90dc-05cec5a39537",
   "metadata": {},
   "outputs": [
    {
     "data": {
      "text/html": [
       "<div class=\"data-frame\"><p>1 rows × 4 columns (omitted printing of 3 columns)</p><table class=\"data-frame\"><thead><tr><th></th><th>program</th></tr><tr><th></th><th title=\"String\">String</th></tr></thead><tbody><tr><th>1</th><td>Program: Computer Information Systems (Post Degree Certificate of Completion)  Cyber Security Concentration</td></tr></tbody></table></div>"
      ],
      "text/latex": [
       "\\begin{tabular}{r|cc}\n",
       "\t& program & \\\\\n",
       "\t\\hline\n",
       "\t& String & \\\\\n",
       "\t\\hline\n",
       "\t1 & Program: Computer Information Systems (Post Degree Certificate of Completion)  Cyber Security Concentration & $\\dots$ \\\\\n",
       "\\end{tabular}\n"
      ],
      "text/plain": [
       "\u001b[1m1×4 DataFrame\u001b[0m\n",
       "\u001b[1m Row \u001b[0m│\u001b[1m program                           \u001b[0m\u001b[1m requirements                      \u001b[0m\u001b[1m y\u001b[0m ⋯\n",
       "\u001b[1m     \u001b[0m│\u001b[90m String                            \u001b[0m\u001b[90m String                            \u001b[0m\u001b[90m I\u001b[0m ⋯\n",
       "─────┼──────────────────────────────────────────────────────────────────────────\n",
       "   1 │ Program: Computer Information Sy…  ['Associate degree or higher in …    ⋯\n",
       "\u001b[36m                                                               2 columns omitted\u001b[0m"
      ]
     },
     "execution_count": 56,
     "metadata": {},
     "output_type": "execute_result"
    }
   ],
   "source": [
    "fixdata = filter(row->occursin(\"Computer Information Systems (Post Degree Certificate of Completion)  Cyber Security Concentration\", row.program)&&row.year==1618, dat)"
   ]
  },
  {
   "cell_type": "code",
   "execution_count": null,
   "id": "825254a1",
   "metadata": {},
   "outputs": [],
   "source": [
    "using Random"
   ]
  },
  {
   "cell_type": "code",
   "execution_count": 5,
   "id": "6b85a6c8",
   "metadata": {},
   "outputs": [
    {
     "data": {
      "text/plain": [
       "10-element Vector{Int64}:\n",
       " 248\n",
       " 869\n",
       " 949\n",
       " 475\n",
       "  21\n",
       " 947\n",
       " 256\n",
       " 738\n",
       " 401\n",
       " 378"
      ]
     },
     "execution_count": 5,
     "metadata": {},
     "output_type": "execute_result"
    }
   ],
   "source": [
    "rws = [rand(1:nrow(dat)) for _ in 1:10]"
   ]
  },
  {
   "cell_type": "code",
   "execution_count": 6,
   "id": "2f4180ec",
   "metadata": {},
   "outputs": [
    {
     "data": {
      "text/html": [
       "<div class=\"data-frame\"><p>10 rows × 1 columns</p><table class=\"data-frame\"><thead><tr><th></th><th>requirements</th></tr><tr><th></th><th title=\"String\">String</th></tr></thead><tbody><tr><th>1</th><td>[&apos;\\\\n\\\\t&apos;, &apos;High School Diploma or Equivalent&apos;, &apos;\\\\n\\\\t&apos;, &apos;Math Proficiency 2&apos;, &apos;\\\\n\\\\t&apos;, &apos;Reading &amp; Writing Proficiency 2&apos;, &apos;\\\\n\\\\t&apos;, &apos;Biology Proficiency&apos;, &apos;\\\\n&apos;]</td></tr><tr><th>2</th><td>[&apos;\\\\n\\\\t&apos;, &apos;Math Skills 2&apos;, &apos;\\\\n\\\\t&apos;, &apos;Reading &amp; Writing Skills 2&apos;, &apos;\\\\n&apos;]</td></tr><tr><th>3</th><td>[&apos;\\\\n\\\\t&apos;, &apos;Math Skills 2&apos;, &apos;\\\\n\\\\t&apos;, &apos;Reading &amp; Writing Skills 2&apos;, &apos;\\\\n&apos;]</td></tr><tr><th>4</th><td>[&apos;\\\\n\\\\t&apos;, &apos;Math Skills 2&apos;, &apos;\\\\n\\\\t&apos;, &apos;Reading &amp; Writing Skills 2&apos;, &apos;or&apos;, &apos;ENG 1101&apos;, &apos;or&apos;, &apos;ENG 1101P&apos;, &apos;(Recommended) *&apos;, &apos;\\\\n\\\\t&apos;, &apos;CHEM 1410&apos;, &apos;and&apos;, &apos;CHEM 1492&apos;, &apos;\\\\n&apos;]</td></tr><tr><th>5</th><td>[&apos;\\\\n\\\\t&apos;, &apos;Math 1111-1114 Series&apos;, &apos;or&apos;, &apos;Math Skills 3&apos;, &apos;or&apos;, &apos;Math Skills 4&apos;, &apos;\\\\n\\\\t&apos;, &apos;Reading &amp; Writing Skills 2&apos;, &apos;\\\\n&apos;]</td></tr><tr><th>6</th><td>[&apos;\\\\n\\\\t&apos;, &apos;Math Skills 5&apos;, &apos;or&apos;, &apos;Math Skills 6&apos;, &apos;\\\\n\\\\t&apos;, &apos;Reading &amp; Writing Skills 2&apos;, &apos;\\\\n&apos;]</td></tr><tr><th>7</th><td>[&apos;\\\\n\\\\t&apos;, &apos;MATH 1210&apos;, &apos;or &apos;, &apos;MATH 1310&apos;, &apos;or &apos;, &apos;Math Proficiency 3&apos;, &apos;\\\\n\\\\t&apos;, &apos;Reading &amp; Writing Proficiency 2&apos;, &apos;\\\\n&apos;]</td></tr><tr><th>8</th><td>[&apos;\\\\n\\\\t&apos;, &apos;High School Diploma or Equivalent for employment&apos;, &apos;\\\\n\\\\t&apos;, &apos;At least 18 years of age to attend IFSAC Certification Courses&apos;, &apos;\\\\n\\\\t&apos;, &apos;\\\\n\\\\t&apos;, &apos;Math Skills 2&apos;, &apos;\\\\n\\\\t&apos;, &apos;\\\\n\\\\t&apos;, &apos;\\\\n\\\\t&apos;, &apos;Reading &amp; Writing Skills 2&apos;, &apos;\\\\n\\\\t\\\\xa0\\\\xa0&apos;, &apos;\\\\n&apos;]</td></tr><tr><th>9</th><td>[&apos;\\\\n\\\\t&apos;, &apos;MATH 1310&apos;, &apos;\\\\n\\\\t&apos;, &apos;Reading &amp; Writing Proficiency 2&apos;, &apos;\\\\n&apos;]</td></tr><tr><th>10</th><td>[&apos;\\\\n\\\\t&apos;, &apos;MATH 1310&apos;, &apos;\\\\n\\\\t&apos;, &apos;Reading &amp; Writing Proficiency 2&apos;, &apos;\\\\n&apos;]</td></tr></tbody></table></div>"
      ],
      "text/latex": [
       "\\begin{tabular}{r|c}\n",
       "\t& requirements\\\\\n",
       "\t\\hline\n",
       "\t& String\\\\\n",
       "\t\\hline\n",
       "\t1 & ['\\textbackslash{}\\textbackslash{}n\\textbackslash{}\\textbackslash{}t', 'High School Diploma or Equivalent', '\\textbackslash{}\\textbackslash{}n\\textbackslash{}\\textbackslash{}t', 'Math Proficiency 2', '\\textbackslash{}\\textbackslash{}n\\textbackslash{}\\textbackslash{}t', 'Reading \\& Writing Proficiency 2', '\\textbackslash{}\\textbackslash{}n\\textbackslash{}\\textbackslash{}t', 'Biology Proficiency', '\\textbackslash{}\\textbackslash{}n'] \\\\\n",
       "\t2 & ['\\textbackslash{}\\textbackslash{}n\\textbackslash{}\\textbackslash{}t', 'Math Skills 2', '\\textbackslash{}\\textbackslash{}n\\textbackslash{}\\textbackslash{}t', 'Reading \\& Writing Skills 2', '\\textbackslash{}\\textbackslash{}n'] \\\\\n",
       "\t3 & ['\\textbackslash{}\\textbackslash{}n\\textbackslash{}\\textbackslash{}t', 'Math Skills 2', '\\textbackslash{}\\textbackslash{}n\\textbackslash{}\\textbackslash{}t', 'Reading \\& Writing Skills 2', '\\textbackslash{}\\textbackslash{}n'] \\\\\n",
       "\t4 & ['\\textbackslash{}\\textbackslash{}n\\textbackslash{}\\textbackslash{}t', 'Math Skills 2', '\\textbackslash{}\\textbackslash{}n\\textbackslash{}\\textbackslash{}t', 'Reading \\& Writing Skills 2', 'or', 'ENG 1101', 'or', 'ENG 1101P', '(Recommended) *', '\\textbackslash{}\\textbackslash{}n\\textbackslash{}\\textbackslash{}t', 'CHEM 1410', 'and', 'CHEM 1492', '\\textbackslash{}\\textbackslash{}n'] \\\\\n",
       "\t5 & ['\\textbackslash{}\\textbackslash{}n\\textbackslash{}\\textbackslash{}t', 'Math 1111-1114 Series', 'or', 'Math Skills 3', 'or', 'Math Skills 4', '\\textbackslash{}\\textbackslash{}n\\textbackslash{}\\textbackslash{}t', 'Reading \\& Writing Skills 2', '\\textbackslash{}\\textbackslash{}n'] \\\\\n",
       "\t6 & ['\\textbackslash{}\\textbackslash{}n\\textbackslash{}\\textbackslash{}t', 'Math Skills 5', 'or', 'Math Skills 6', '\\textbackslash{}\\textbackslash{}n\\textbackslash{}\\textbackslash{}t', 'Reading \\& Writing Skills 2', '\\textbackslash{}\\textbackslash{}n'] \\\\\n",
       "\t7 & ['\\textbackslash{}\\textbackslash{}n\\textbackslash{}\\textbackslash{}t', 'MATH 1210', 'or ', 'MATH 1310', 'or ', 'Math Proficiency 3', '\\textbackslash{}\\textbackslash{}n\\textbackslash{}\\textbackslash{}t', 'Reading \\& Writing Proficiency 2', '\\textbackslash{}\\textbackslash{}n'] \\\\\n",
       "\t8 & ['\\textbackslash{}\\textbackslash{}n\\textbackslash{}\\textbackslash{}t', 'High School Diploma or Equivalent for employment', '\\textbackslash{}\\textbackslash{}n\\textbackslash{}\\textbackslash{}t', 'At least 18 years of age to attend IFSAC Certification Courses', '\\textbackslash{}\\textbackslash{}n\\textbackslash{}\\textbackslash{}t', '\\textbackslash{}\\textbackslash{}n\\textbackslash{}\\textbackslash{}t', 'Math Skills 2', '\\textbackslash{}\\textbackslash{}n\\textbackslash{}\\textbackslash{}t', '\\textbackslash{}\\textbackslash{}n\\textbackslash{}\\textbackslash{}t', '\\textbackslash{}\\textbackslash{}n\\textbackslash{}\\textbackslash{}t', 'Reading \\& Writing Skills 2', '\\textbackslash{}\\textbackslash{}n\\textbackslash{}\\textbackslash{}t\\textbackslash{}\\textbackslash{}xa0\\textbackslash{}\\textbackslash{}xa0', '\\textbackslash{}\\textbackslash{}n'] \\\\\n",
       "\t9 & ['\\textbackslash{}\\textbackslash{}n\\textbackslash{}\\textbackslash{}t', 'MATH 1310', '\\textbackslash{}\\textbackslash{}n\\textbackslash{}\\textbackslash{}t', 'Reading \\& Writing Proficiency 2', '\\textbackslash{}\\textbackslash{}n'] \\\\\n",
       "\t10 & ['\\textbackslash{}\\textbackslash{}n\\textbackslash{}\\textbackslash{}t', 'MATH 1310', '\\textbackslash{}\\textbackslash{}n\\textbackslash{}\\textbackslash{}t', 'Reading \\& Writing Proficiency 2', '\\textbackslash{}\\textbackslash{}n'] \\\\\n",
       "\\end{tabular}\n"
      ],
      "text/plain": [
       "\u001b[1m10×1 DataFrame\u001b[0m\n",
       "\u001b[1m Row \u001b[0m│\u001b[1m requirements                      \u001b[0m\n",
       "\u001b[1m     \u001b[0m│\u001b[90m String                            \u001b[0m\n",
       "─────┼───────────────────────────────────\n",
       "   1 │ ['\\\\n\\\\t', 'High School Diploma …\n",
       "   2 │ ['\\\\n\\\\t', 'Math Skills 2', '\\\\n…\n",
       "   3 │ ['\\\\n\\\\t', 'Math Skills 2', '\\\\n…\n",
       "   4 │ ['\\\\n\\\\t', 'Math Skills 2', '\\\\n…\n",
       "   5 │ ['\\\\n\\\\t', 'Math 1111-1114 Serie…\n",
       "   6 │ ['\\\\n\\\\t', 'Math Skills 5', 'or'…\n",
       "   7 │ ['\\\\n\\\\t', 'MATH 1210', 'or ', '…\n",
       "   8 │ ['\\\\n\\\\t', 'High School Diploma …\n",
       "   9 │ ['\\\\n\\\\t', 'MATH 1310', '\\\\n\\\\t'…\n",
       "  10 │ ['\\\\n\\\\t', 'MATH 1310', '\\\\n\\\\t'…"
      ]
     },
     "execution_count": 6,
     "metadata": {},
     "output_type": "execute_result"
    }
   ],
   "source": [
    "dat[rws,[:requirements]]"
   ]
  },
  {
   "cell_type": "code",
   "execution_count": 222,
   "id": "1ef8abcc",
   "metadata": {},
   "outputs": [
    {
     "data": {
      "text/html": [
       "<div class=\"data-frame\"><p>10 rows × 1 columns</p><table class=\"data-frame\"><thead><tr><th></th><th>cleanedreqs</th></tr><tr><th></th><th title=\"Vector{String}\">Array…</th></tr></thead><tbody><tr><th>1</th><td>[&quot;math skills 4&quot;, &quot;reading &amp; writing skills 2&quot;]</td></tr><tr><th>2</th><td>[]</td></tr><tr><th>3</th><td>[&quot;math 1111-1114 series&quot;, &quot; or &quot;, &quot;math skills 3&quot;, &quot; or &quot;, &quot;math skills 4&quot;, &quot;reading &amp; writing skills 2&quot;]</td></tr><tr><th>4</th><td>[&quot;math skills 2&quot;, &quot;reading &amp; writing skills 2&quot;]</td></tr><tr><th>5</th><td>[&quot;math proficiency 3&quot;, &quot;reading &amp; writing proficiency 2&quot;]</td></tr><tr><th>6</th><td>[&quot;math skills 2&quot;, &quot;reading &amp; writing skills 2&quot;]</td></tr><tr><th>7</th><td>[]</td></tr><tr><th>8</th><td>[&quot;reading &amp; writing skills 1&quot;]</td></tr><tr><th>9</th><td>[]</td></tr><tr><th>10</th><td>[&quot;math 1310 &quot;, &quot;reading &amp; writing proficiency 2&quot;]</td></tr></tbody></table></div>"
      ],
      "text/latex": [
       "\\begin{tabular}{r|c}\n",
       "\t& cleanedreqs\\\\\n",
       "\t\\hline\n",
       "\t& Array…\\\\\n",
       "\t\\hline\n",
       "\t1 & [\"math skills 4\", \"reading \\& writing skills 2\"] \\\\\n",
       "\t2 & [] \\\\\n",
       "\t3 & [\"math 1111-1114 series\", \" or \", \"math skills 3\", \" or \", \"math skills 4\", \"reading \\& writing skills 2\"] \\\\\n",
       "\t4 & [\"math skills 2\", \"reading \\& writing skills 2\"] \\\\\n",
       "\t5 & [\"math proficiency 3\", \"reading \\& writing proficiency 2\"] \\\\\n",
       "\t6 & [\"math skills 2\", \"reading \\& writing skills 2\"] \\\\\n",
       "\t7 & [] \\\\\n",
       "\t8 & [\"reading \\& writing skills 1\"] \\\\\n",
       "\t9 & [] \\\\\n",
       "\t10 & [\"math 1310 \", \"reading \\& writing proficiency 2\"] \\\\\n",
       "\\end{tabular}\n"
      ],
      "text/plain": [
       "\u001b[1m10×1 DataFrame\u001b[0m\n",
       "\u001b[1m Row \u001b[0m│\u001b[1m cleanedreqs                       \u001b[0m\n",
       "\u001b[1m     \u001b[0m│\u001b[90m Array…                            \u001b[0m\n",
       "─────┼───────────────────────────────────\n",
       "   1 │ [\"math skills 4\", \"reading & wri…\n",
       "   2 │ String[]\n",
       "   3 │ [\"math 1111-1114 series\", \" or \"…\n",
       "   4 │ [\"math skills 2\", \"reading & wri…\n",
       "   5 │ [\"math proficiency 3\", \"reading …\n",
       "   6 │ [\"math skills 2\", \"reading & wri…\n",
       "   7 │ String[]\n",
       "   8 │ [\"reading & writing skills 1\"]\n",
       "   9 │ String[]\n",
       "  10 │ [\"math 1310 \", \"reading & writin…"
      ]
     },
     "execution_count": 222,
     "metadata": {},
     "output_type": "execute_result"
    }
   ],
   "source": [
    "dat[rws,[:cleanedreqs]]"
   ]
  },
  {
   "cell_type": "code",
   "execution_count": 38,
   "id": "1d57d2f8",
   "metadata": {},
   "outputs": [
    {
     "data": {
      "text/plain": [
       "\"|math 2 proficiency ||reading & writing proficiency 2|||| or ||() and |\""
      ]
     },
     "execution_count": 38,
     "metadata": {},
     "output_type": "execute_result"
    }
   ],
   "source": [
    "dd"
   ]
  },
  {
   "cell_type": "code",
   "execution_count": 278,
   "id": "ec36ad42",
   "metadata": {},
   "outputs": [
    {
     "data": {
      "text/plain": [
       "missing"
      ]
     },
     "execution_count": 278,
     "metadata": {},
     "output_type": "execute_result"
    }
   ],
   "source": [
    "filter(row->ismissing(row.requirements),dat)[1, 2]"
   ]
  },
  {
   "cell_type": "code",
   "execution_count": 376,
   "id": "eaefc284",
   "metadata": {},
   "outputs": [
    {
     "data": {
      "text/plain": [
       "\"['\\\\n\\\\t', 'Math Skills 4', '\\\\n\\\\t', 'Reading & Writing Skills 2', '\\\\n']\""
      ]
     },
     "execution_count": 376,
     "metadata": {},
     "output_type": "execute_result"
    }
   ],
   "source": [
    "#f(dat.requirements[end])\n",
    "dat[11,2]"
   ]
  },
  {
   "cell_type": "code",
   "execution_count": 370,
   "id": "d9a902c7",
   "metadata": {},
   "outputs": [
    {
     "data": {
      "text/plain": [
       "3-element Vector{Vector{String}}:\n",
       " [\" math 2 proficiency\", \" reading & writing proficiency\", \"hlth 1001 \", \" or \"]\n",
       " [\" math skills 2\", \" reading & writing skills 2\"]\n",
       " [\" math skills 2\", \" reading & writing skills 2\"]"
      ]
     },
     "execution_count": 370,
     "metadata": {},
     "output_type": "execute_result"
    }
   ],
   "source": [
    "filter(row->occursin(\"Community Dental\", row.program), dat)[:, :cleanedreqs]"
   ]
  },
  {
   "cell_type": "code",
   "execution_count": null,
   "id": "b83adab3",
   "metadata": {},
   "outputs": [],
   "source": [
    "transform(dat, :cleanreqs=>ByRow(x-> ))"
   ]
  },
  {
   "cell_type": "code",
   "execution_count": 358,
   "id": "fcf5e159",
   "metadata": {},
   "outputs": [
    {
     "data": {
      "text/plain": [
       "4-element Vector{String}:\n",
       " \" math skills 2 \"\n",
       " \" or \"\n",
       " \" math skills 3\"\n",
       " \" reading & writing skills 2\""
      ]
     },
     "execution_count": 358,
     "metadata": {},
     "output_type": "execute_result"
    }
   ],
   "source": [
    " filter(row->occursin(\"(\", join(row.cleanedreqs)), dat)[28, :cleanedreqs])"
   ]
  },
  {
   "cell_type": "code",
   "execution_count": 255,
   "id": "9126d9c2",
   "metadata": {},
   "outputs": [
    {
     "data": {
      "text/plain": [
       "120"
      ]
     },
     "execution_count": 255,
     "metadata": {},
     "output_type": "execute_result"
    }
   ],
   "source": [
    "ENV[\"COLUMNS\"] = 120"
   ]
  },
  {
   "cell_type": "code",
   "execution_count": 265,
   "id": "07fd41dd",
   "metadata": {},
   "outputs": [
    {
     "data": {
      "text/plain": [
       "6-element Vector{String}:\n",
       " \"tlol 1010  and \"\n",
       " \"tlol 1015  and \"\n",
       " \"tlol 1020 \"\n",
       " \"tlol 1025 \"\n",
       " \"tlol 1030  and \"\n",
       " \"tlol 1035 \""
      ]
     },
     "execution_count": 265,
     "metadata": {},
     "output_type": "execute_result"
    }
   ],
   "source": [
    "filter(row -> occursin(\"and\", join(row.cleanedreqs)), dat)[1, :]"
   ]
  },
  {
   "cell_type": "code",
   "execution_count": 213,
   "id": "c6f97a41",
   "metadata": {},
   "outputs": [
    {
     "data": {
      "text/plain": [
       "true"
      ]
     },
     "execution_count": 213,
     "metadata": {},
     "output_type": "execute_result"
    }
   ],
   "source": [
    "occursin(\"(\", join([\"a\", \"(\"]))"
   ]
  },
  {
   "cell_type": "code",
   "execution_count": 209,
   "id": "ca2efecb",
   "metadata": {},
   "outputs": [
    {
     "data": {
      "text/plain": [
       "10-element PooledArrays.PooledVector{String, UInt32, Vector{UInt32}}:\n",
       " \"['\\\\n\\\\t', 'Alternative Teacher L\" ⋯ 41 bytes ⋯ \"\\\\t', 'Bachelor’s Degree', '\\\\n']\"\n",
       " \"['\\\\n\\\\t', 'Alternative Teacher L\" ⋯ 41 bytes ⋯ \"\\\\t', 'Bachelor’s Degree', '\\\\n']\"\n",
       " \"['\\\\n\\\\t', 'Alternative Teacher L\" ⋯ 41 bytes ⋯ \"\\\\t', 'Bachelor’s Degree', '\\\\n']\"\n",
       " \"['GECK 0500 - Computer Keyboard\" ⋯ 641 bytes ⋯ \"dies ', '0', 'credit hour(s)']\"\n",
       " \"['\\\\n\\\\t', 'Math Skills 2', '\\\\n\\\\t', 'Reading & Writing Skills 2', '\\\\n']\"\n",
       " \"['Bachelor’s Degree', '\\\\n', 'De\" ⋯ 127 bytes ⋯ \" 'or equivalent course', '\\\\n']\"\n",
       " \"['\\\\n\\\\t', 'Math Skills 3', '\\\\n\\\\t', 'Reading & Writing Skills 2', '\\\\n']\"\n",
       " \"['\\\\n\\\\t', 'Math Skills 2', '\\\\n\\\\t', 'Reading & Writing Skills 2', '\\\\n']\"\n",
       " \"['\\\\n\\\\t', 'Math Skills 3', '\\\\n\\\\t', 'Reading & Writing Skills 2', '\\\\n']\"\n",
       " \"['\\\\n\\\\t', 'Math Skills 3', '\\\\n\\\\t', 'Reading & Writing Skills 2', '\\\\n']\""
      ]
     },
     "execution_count": 209,
     "metadata": {},
     "output_type": "execute_result"
    }
   ],
   "source": [
    "last(dat.requirements, 10)"
   ]
  },
  {
   "cell_type": "code",
   "execution_count": 100,
   "id": "c668ef98",
   "metadata": {},
   "outputs": [
    {
     "data": {
      "text/plain": [
       "29-element Vector{RegexMatch}:\n",
       " RegexMatch(\"at 1005 \", 1=\"at 1005 \", 2=nothing, 3=nothing, 4=nothing, 5=nothing, 6=nothing)\n",
       " RegexMatch(\"|\", 1=nothing, 2=nothing, 3=nothing, 4=nothing, 5=nothing, 6=\"|\")\n",
       " RegexMatch(\"|\", 1=nothing, 2=nothing, 3=nothing, 4=nothing, 5=nothing, 6=\"|\")\n",
       " RegexMatch(\"|\", 1=nothing, 2=nothing, 3=nothing, 4=nothing, 5=nothing, 6=\"|\")\n",
       " RegexMatch(\" or \", 1=nothing, 2=\" or \", 3=nothing, 4=nothing, 5=nothing, 6=nothing)\n",
       " RegexMatch(\"|\", 1=nothing, 2=nothing, 3=nothing, 4=nothing, 5=nothing, 6=\"|\")\n",
       " RegexMatch(\"at 1010 \", 1=\"at 1010 \", 2=nothing, 3=nothing, 4=nothing, 5=nothing, 6=nothing)\n",
       " RegexMatch(\"|\", 1=nothing, 2=nothing, 3=nothing, 4=nothing, 5=nothing, 6=\"|\")\n",
       " RegexMatch(\"|\", 1=nothing, 2=nothing, 3=nothing, 4=nothing, 5=nothing, 6=\"|\")\n",
       " RegexMatch(\"|\", 1=nothing, 2=nothing, 3=nothing, 4=nothing, 5=nothing, 6=\"|\")\n",
       " RegexMatch(\" or \", 1=nothing, 2=\" or \", 3=nothing, 4=nothing, 5=nothing, 6=nothing)\n",
       " RegexMatch(\"|\", 1=nothing, 2=nothing, 3=nothing, 4=nothing, 5=nothing, 6=\"|\")\n",
       " RegexMatch(\"at 1020 \", 1=\"at 1020 \", 2=nothing, 3=nothing, 4=nothing, 5=nothing, 6=nothing)\n",
       " ⋮\n",
       " RegexMatch(\"|\", 1=nothing, 2=nothing, 3=nothing, 4=nothing, 5=nothing, 6=\"|\")\n",
       " RegexMatch(\"at 1030 \", 1=\"at 1030 \", 2=nothing, 3=nothing, 4=nothing, 5=nothing, 6=nothing)\n",
       " RegexMatch(\"|\", 1=nothing, 2=nothing, 3=nothing, 4=nothing, 5=nothing, 6=\"|\")\n",
       " RegexMatch(\"|\", 1=nothing, 2=nothing, 3=nothing, 4=nothing, 5=nothing, 6=\"|\")\n",
       " RegexMatch(\"|\", 1=nothing, 2=nothing, 3=nothing, 4=nothing, 5=nothing, 6=\"|\")\n",
       " RegexMatch(\" or \", 1=nothing, 2=\" or \", 3=nothing, 4=nothing, 5=nothing, 6=nothing)\n",
       " RegexMatch(\"|\", 1=nothing, 2=nothing, 3=nothing, 4=nothing, 5=nothing, 6=\"|\")\n",
       " RegexMatch(\"at 1040 \", 1=\"at 1040 \", 2=nothing, 3=nothing, 4=nothing, 5=nothing, 6=nothing)\n",
       " RegexMatch(\"|\", 1=nothing, 2=nothing, 3=nothing, 4=nothing, 5=nothing, 6=\"|\")\n",
       " RegexMatch(\"|\", 1=nothing, 2=nothing, 3=nothing, 4=nothing, 5=nothing, 6=\"|\")\n",
       " RegexMatch(\"|\", 1=nothing, 2=nothing, 3=nothing, 4=nothing, 5=nothing, 6=\"|\")\n",
       " RegexMatch(\"|\", 1=nothing, 2=nothing, 3=nothing, 4=nothing, 5=nothing, 6=\"|\")"
      ]
     },
     "execution_count": 100,
     "metadata": {},
     "output_type": "execute_result"
    }
   ],
   "source": [
    "crssubjnumb = \"(\\\\w\\\\w\\\\w?\\\\w?\\\\s\\\\d\\\\d\\\\d\\\\d?\\\\s)\"\n",
    "    andor = \"(\\\\sor\\\\s)|(\\\\sand\\\\s)\"\n",
    "    skills = \"(.*\\\\sskills\\\\s\\\\d)\"\n",
    "    proficiency = \"(.*\\\\sproficiency)\"\n",
    "    divider = \"(\\\\|)\"\n",
    "[eachmatch(Regex(\"$crssubjnumb|$andor|$skills|$proficiency|$divider\"), dat.cleanedreqs[9])...]"
   ]
  },
  {
   "cell_type": "code",
   "execution_count": 83,
   "id": "236da26a",
   "metadata": {},
   "outputs": [
    {
     "data": {
      "text/plain": [
       "\"at 1005  or at 1010  or at 1020  or at 1030  or at 1040 \""
      ]
     },
     "execution_count": 83,
     "metadata": {},
     "output_type": "execute_result"
    }
   ],
   "source": [
    " join(map(x->x.match, eachmatch(r\"(\\w\\w\\w?\\w?\\s\\d\\d\\d\\d?\\s)|(\\sor\\s)|(\\sand\\s)\", replaceescchar(dat.requirements[9]))))\n"
   ]
  },
  {
   "cell_type": "code",
   "execution_count": 65,
   "id": "78fea3e4",
   "metadata": {},
   "outputs": [
    {
     "data": {
      "text/plain": [
       "\"ortation ', '3', 'credit hour(s)', 'Program Approved Electives', ' 12 credit hour(s)']\""
      ]
     },
     "execution_count": 65,
     "metadata": {},
     "output_type": "execute_result"
    }
   ],
   "source": [
    "dat.requirements[9][352:end]"
   ]
  },
  {
   "cell_type": "code",
   "execution_count": 20,
   "id": "c30086ac",
   "metadata": {},
   "outputs": [
    {
     "name": "stdout",
     "output_type": "stream",
     "text": [
      "at 1005\n",
      " at 1010\n",
      " at 1020\n",
      " at 1030\n",
      " at 1040\n"
     ]
    }
   ],
   "source": [
    "for x in dat.cleanedreqs[9]\n",
    "    if occursin('-', x)\n",
    "        m = match(r\".*((?=\\W-))\", x)\n",
    "        println(m.match)\n",
    "    elseif isdigit(strip(x)) || occursin(\"credit hours\", x)\n",
    "        pop\n",
    "    end\n",
    "end"
   ]
  },
  {
   "cell_type": "code",
   "execution_count": 22,
   "id": "41c987ce",
   "metadata": {},
   "outputs": [
    {
     "data": {
      "text/html": [
       "<div class=\"data-frame\"><p>0 rows × 4 columns</p><table class=\"data-frame\"><thead><tr><th></th><th>program</th><th>requirements</th><th>year</th><th>cleanedreqs</th></tr><tr><th></th><th title=\"String\">String</th><th title=\"String\">String</th><th title=\"Int64\">Int64</th><th title=\"Vector{String}\">Array…</th></tr></thead><tbody></tbody></table></div>"
      ],
      "text/latex": [
       "\\begin{tabular}{r|cccc}\n",
       "\t& program & requirements & year & cleanedreqs\\\\\n",
       "\t\\hline\n",
       "\t& String & String & Int64 & Array…\\\\\n",
       "\t\\hline\n",
       "\\end{tabular}\n"
      ],
      "text/plain": [
       "\u001b[1m0×4 DataFrame\u001b[0m"
      ]
     },
     "execution_count": 22,
     "metadata": {},
     "output_type": "execute_result"
    }
   ],
   "source": [
    "const validset = Set(['1', '2','3','4','5'])\n",
    "filter(:cleanedreqs => in(validset), dat)"
   ]
  },
  {
   "cell_type": "code",
   "execution_count": null,
   "id": "7c2ec409",
   "metadata": {},
   "outputs": [],
   "source": []
  }
 ],
 "metadata": {
  "kernelspec": {
   "display_name": "Julia 1.7.3",
   "language": "julia",
   "name": "julia-1.7"
  },
  "language_info": {
   "file_extension": ".jl",
   "mimetype": "application/julia",
   "name": "julia",
   "version": "1.7.3"
  }
 },
 "nbformat": 4,
 "nbformat_minor": 5
}
